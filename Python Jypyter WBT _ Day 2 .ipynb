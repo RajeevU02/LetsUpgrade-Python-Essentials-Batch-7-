{
 "cells": [
  {
   "cell_type": "markdown",
   "metadata": {},
   "source": [
    "# Assignment Day - 2 "
   ]
  },
  {
   "cell_type": "markdown",
   "metadata": {},
   "source": [
    "# Question: So you guys need to work with the default functions of each one of the data type: ----\n",
    "\n",
    "1. List and it default functions\n",
    "2. Dictionary & its default functions\n",
    "3. Sets & its default functions\n",
    "4. Tuple & explore default methods\n",
    "5. String & explore default methods (Only 5 for each data type)"
   ]
  },
  {
   "cell_type": "markdown",
   "metadata": {},
   "source": [
    "# 1. List and default functions\n",
    "\n",
    "List are just like the arrays beacause a list is a container which can hold different daa types in it. List is a complex data type which is derived from list object. List is a collection which is ordered, changeable and allows duplicate members."
   ]
  },
  {
   "cell_type": "code",
   "execution_count": 1,
   "metadata": {},
   "outputs": [],
   "source": [
    "# list with mixed data types\n",
    "\n",
    "my_list = ['Python', 'Java', 'C++', 'C', 'PHP', 'Spring', 10, 12.345, [1, 2, 3, 4]]"
   ]
  },
  {
   "cell_type": "code",
   "execution_count": 2,
   "metadata": {},
   "outputs": [
    {
     "data": {
      "text/plain": [
       "list"
      ]
     },
     "execution_count": 2,
     "metadata": {},
     "output_type": "execute_result"
    }
   ],
   "source": [
    "# Check the dtat types\n",
    "\n",
    "type(my_list)"
   ]
  },
  {
   "cell_type": "code",
   "execution_count": 3,
   "metadata": {},
   "outputs": [
    {
     "data": {
      "text/plain": [
       "['Python',\n",
       " 'Java',\n",
       " 'C++',\n",
       " 'C',\n",
       " 'PHP',\n",
       " 'Spring',\n",
       " 10,\n",
       " 12.345,\n",
       " [1, 2, 3, 4],\n",
       " 'Javascript']"
      ]
     },
     "execution_count": 3,
     "metadata": {},
     "output_type": "execute_result"
    }
   ],
   "source": [
    "# Adding element in the my_list\n",
    "\n",
    "my_list.append(\"Javascript\")\n",
    "\n",
    "# Printing data\n",
    "\n",
    "my_list"
   ]
  },
  {
   "cell_type": "code",
   "execution_count": 4,
   "metadata": {},
   "outputs": [
    {
     "data": {
      "text/plain": [
       "['C++', 'C', 'PHP']"
      ]
     },
     "execution_count": 4,
     "metadata": {},
     "output_type": "execute_result"
    }
   ],
   "source": [
    "# Indexing \n",
    "\n",
    "my_list[2:5]"
   ]
  },
  {
   "cell_type": "code",
   "execution_count": 5,
   "metadata": {},
   "outputs": [
    {
     "data": {
      "text/plain": [
       "['Javascript',\n",
       " [1, 2, 3, 4],\n",
       " 12.345,\n",
       " 10,\n",
       " 'Spring',\n",
       " 'PHP',\n",
       " 'C',\n",
       " 'C++',\n",
       " 'Java',\n",
       " 'Python']"
      ]
     },
     "execution_count": 5,
     "metadata": {},
     "output_type": "execute_result"
    }
   ],
   "source": [
    "# reverse\n",
    "\n",
    "my_list.reverse()\n",
    "my_list"
   ]
  },
  {
   "cell_type": "code",
   "execution_count": 6,
   "metadata": {},
   "outputs": [
    {
     "data": {
      "text/plain": [
       "12.345"
      ]
     },
     "execution_count": 6,
     "metadata": {},
     "output_type": "execute_result"
    }
   ],
   "source": [
    "# Pop the element\n",
    "\n",
    "my_list.pop(2)"
   ]
  },
  {
   "cell_type": "code",
   "execution_count": 7,
   "metadata": {},
   "outputs": [
    {
     "data": {
      "text/plain": [
       "['Javascript', [1, 2, 3, 4], 10, 'Spring', 'C', 'C++', 'Java', 'Python']"
      ]
     },
     "execution_count": 7,
     "metadata": {},
     "output_type": "execute_result"
    }
   ],
   "source": [
    "# Removing data in my_list\n",
    "\n",
    "my_list.remove(\"PHP\")\n",
    "my_list"
   ]
  },
  {
   "cell_type": "code",
   "execution_count": 8,
   "metadata": {},
   "outputs": [
    {
     "data": {
      "text/plain": [
       "[]"
      ]
     },
     "execution_count": 8,
     "metadata": {},
     "output_type": "execute_result"
    }
   ],
   "source": [
    "# Clear all data in my_list\n",
    "\n",
    "my_list.clear()\n",
    "my_list"
   ]
  },
  {
   "cell_type": "markdown",
   "metadata": {},
   "source": [
    "# 2. Dictionary & its default functions\n",
    "\n",
    "A dictionary is a collection of key/value pairs. Python has various methods to work in dictionaries. In this reference page, you will find all the methods to work with dictionaries.\n",
    "\n",
    "Data is stored like ---> { \"Key\" : \"Value\" }"
   ]
  },
  {
   "cell_type": "code",
   "execution_count": 14,
   "metadata": {},
   "outputs": [],
   "source": [
    "# Create a dictionary and insert data\n",
    "\n",
    "person = {'name': 'Rajeev', 'age': 24 , 'number' : 7087268700, 'Email' : 'Rajeev02@outlook.com'}"
   ]
  },
  {
   "cell_type": "code",
   "execution_count": 15,
   "metadata": {},
   "outputs": [
    {
     "data": {
      "text/plain": [
       "dict"
      ]
     },
     "execution_count": 15,
     "metadata": {},
     "output_type": "execute_result"
    }
   ],
   "source": [
    "# Check the data types\n",
    "\n",
    "type(person)"
   ]
  },
  {
   "cell_type": "code",
   "execution_count": 16,
   "metadata": {},
   "outputs": [
    {
     "data": {
      "text/plain": [
       "{'name': 'Rajeev',\n",
       " 'age': 24,\n",
       " 'number': 7087268700,\n",
       " 'Email': 'Rajeev02@outlook.com'}"
      ]
     },
     "execution_count": 16,
     "metadata": {},
     "output_type": "execute_result"
    }
   ],
   "source": [
    "# Print the dictionary\n",
    "\n",
    "person"
   ]
  },
  {
   "cell_type": "code",
   "execution_count": 17,
   "metadata": {},
   "outputs": [
    {
     "data": {
      "text/plain": [
       "'Rajeev'"
      ]
     },
     "execution_count": 17,
     "metadata": {},
     "output_type": "execute_result"
    }
   ],
   "source": [
    "# Using get method \n",
    "\n",
    "person.get('name')"
   ]
  },
  {
   "cell_type": "code",
   "execution_count": 18,
   "metadata": {},
   "outputs": [
    {
     "data": {
      "text/plain": [
       "dict_items([('name', 'Rajeev'), ('age', 24), ('number', 7087268700), ('Email', 'Rajeev02@outlook.com')])"
      ]
     },
     "execution_count": 18,
     "metadata": {},
     "output_type": "execute_result"
    }
   ],
   "source": [
    "# Using items method\n",
    "\n",
    "person.items()"
   ]
  },
  {
   "cell_type": "code",
   "execution_count": 19,
   "metadata": {},
   "outputs": [
    {
     "data": {
      "text/plain": [
       "dict_keys(['name', 'age', 'number', 'Email'])"
      ]
     },
     "execution_count": 19,
     "metadata": {},
     "output_type": "execute_result"
    }
   ],
   "source": [
    "# Using keys method\n",
    "\n",
    "person.keys()"
   ]
  },
  {
   "cell_type": "markdown",
   "metadata": {},
   "source": [
    "# 3. Sets & its default functions\n",
    "\n",
    "Sets are used for stored unique values in the python and sets are a complex struture. A set is a collection which is unordered and unindexed. In Python sets are written with curly brackets."
   ]
  },
  {
   "cell_type": "code",
   "execution_count": 20,
   "metadata": {},
   "outputs": [],
   "source": [
    "# Create set and input data\n",
    "\n",
    "St = {\"Rahul\", \"Developer\", 1,1,2,3,4,5,4,5,5,6}"
   ]
  },
  {
   "cell_type": "code",
   "execution_count": 21,
   "metadata": {},
   "outputs": [
    {
     "data": {
      "text/plain": [
       "set"
      ]
     },
     "execution_count": 21,
     "metadata": {},
     "output_type": "execute_result"
    }
   ],
   "source": [
    "# Check the data types \n",
    "\n",
    "type(St)"
   ]
  },
  {
   "cell_type": "code",
   "execution_count": 22,
   "metadata": {},
   "outputs": [
    {
     "data": {
      "text/plain": [
       "{1, 2, 3, 4, 5, 6, 'Developer', 'Rahul'}"
      ]
     },
     "execution_count": 22,
     "metadata": {},
     "output_type": "execute_result"
    }
   ],
   "source": [
    "# Print the sets\n",
    "\n",
    "St"
   ]
  },
  {
   "cell_type": "code",
   "execution_count": 23,
   "metadata": {},
   "outputs": [],
   "source": [
    "# Adding the elements in St\n",
    "\n",
    "St.add(\"Student\")"
   ]
  },
  {
   "cell_type": "code",
   "execution_count": 24,
   "metadata": {},
   "outputs": [
    {
     "data": {
      "text/plain": [
       "True"
      ]
     },
     "execution_count": 24,
     "metadata": {},
     "output_type": "execute_result"
    }
   ],
   "source": [
    "# Using issubset method and check also boolean\n",
    "\n",
    "St1 = {\"Rahul\", 1}\n",
    "St1.issubset(St)"
   ]
  },
  {
   "cell_type": "code",
   "execution_count": 25,
   "metadata": {},
   "outputs": [
    {
     "data": {
      "text/plain": [
       "{1, 2, 3, 4, 5, 6, 'Developer', 'Rahul'}"
      ]
     },
     "execution_count": 25,
     "metadata": {},
     "output_type": "execute_result"
    }
   ],
   "source": [
    "# removing a particular object\n",
    "\n",
    "St.remove(\"Student\")\n",
    "St"
   ]
  },
  {
   "cell_type": "code",
   "execution_count": 26,
   "metadata": {},
   "outputs": [],
   "source": [
    "# updating data\n",
    "\n",
    "St.update([\"Microsoft\", \"Google\", \"IBM\", \"Amazon\"])"
   ]
  },
  {
   "cell_type": "code",
   "execution_count": 27,
   "metadata": {},
   "outputs": [
    {
     "data": {
      "text/plain": [
       "{1,\n",
       " 2,\n",
       " 3,\n",
       " 4,\n",
       " 5,\n",
       " 6,\n",
       " 'Amazon',\n",
       " 'Developer',\n",
       " 'Google',\n",
       " 'IBM',\n",
       " 'Microsoft',\n",
       " 'Rahul'}"
      ]
     },
     "execution_count": 27,
     "metadata": {},
     "output_type": "execute_result"
    }
   ],
   "source": [
    "St"
   ]
  },
  {
   "cell_type": "code",
   "execution_count": 28,
   "metadata": {},
   "outputs": [
    {
     "data": {
      "text/plain": [
       "{1, 2, 3, 4, 5, 6, 'Developer', 'Google', 'IBM', 'Microsoft', 'Rahul'}"
      ]
     },
     "execution_count": 28,
     "metadata": {},
     "output_type": "execute_result"
    }
   ],
   "source": [
    "# Discarding the objects\n",
    "\n",
    "St.discard(\"Amazon\")\n",
    "St"
   ]
  },
  {
   "cell_type": "code",
   "execution_count": 29,
   "metadata": {},
   "outputs": [
    {
     "data": {
      "text/plain": [
       "set()"
      ]
     },
     "execution_count": 29,
     "metadata": {},
     "output_type": "execute_result"
    }
   ],
   "source": [
    "#Clearing all data\n",
    "\n",
    "St.clear()\n",
    "St"
   ]
  },
  {
   "cell_type": "markdown",
   "metadata": {},
   "source": [
    "# 4. Tuple & explore default methods\n",
    "\n",
    "Tuples are ordered immuatable collection of objects. A tuple is a collection which is ordered and unchangeable. The differences between tuples and lists are, the tuples cannot be changed unlike lists and tuples use parentheses, whereas lists use square brackets. Creating a tuple is as simple as putting different comma-separated values."
   ]
  },
  {
   "cell_type": "code",
   "execution_count": 30,
   "metadata": {},
   "outputs": [],
   "source": [
    "# Create a tuple & Enter the objects\n",
    "\n",
    "Tup = (\"Apple\", \"Mongo\", \"Banana\", \"Cherry\", \"Orange\", \"Kiwi\", \"Melon\")"
   ]
  },
  {
   "cell_type": "code",
   "execution_count": 31,
   "metadata": {},
   "outputs": [
    {
     "data": {
      "text/plain": [
       "tuple"
      ]
     },
     "execution_count": 31,
     "metadata": {},
     "output_type": "execute_result"
    }
   ],
   "source": [
    "# Check the data types\n",
    "\n",
    "type(Tup)"
   ]
  },
  {
   "cell_type": "code",
   "execution_count": 32,
   "metadata": {},
   "outputs": [
    {
     "data": {
      "text/plain": [
       "('Apple', 'Mongo', 'Banana', 'Cherry', 'Orange', 'Kiwi', 'Melon')"
      ]
     },
     "execution_count": 32,
     "metadata": {},
     "output_type": "execute_result"
    }
   ],
   "source": [
    "# Printing the data\n",
    "\n",
    "Tup"
   ]
  },
  {
   "cell_type": "code",
   "execution_count": 33,
   "metadata": {},
   "outputs": [
    {
     "data": {
      "text/plain": [
       "('Banana', 'Cherry', 'Orange', 'Kiwi')"
      ]
     },
     "execution_count": 33,
     "metadata": {},
     "output_type": "execute_result"
    }
   ],
   "source": [
    "# Indexing \n",
    "\n",
    "Tup[2:6]"
   ]
  },
  {
   "cell_type": "code",
   "execution_count": 34,
   "metadata": {},
   "outputs": [
    {
     "data": {
      "text/plain": [
       "'Melon'"
      ]
     },
     "execution_count": 34,
     "metadata": {},
     "output_type": "execute_result"
    }
   ],
   "source": [
    "# Negative indexing\n",
    "\n",
    "Tup[-1]"
   ]
  },
  {
   "cell_type": "code",
   "execution_count": 35,
   "metadata": {},
   "outputs": [
    {
     "data": {
      "text/plain": [
       "1"
      ]
     },
     "execution_count": 35,
     "metadata": {},
     "output_type": "execute_result"
    }
   ],
   "source": [
    "# Count the objects\n",
    "\n",
    "Tup.count('Orange')"
   ]
  },
  {
   "cell_type": "code",
   "execution_count": 36,
   "metadata": {},
   "outputs": [
    {
     "data": {
      "text/plain": [
       "(11, 12, 33.45, 34.56, 'abc', 'PQR', 'xyz')"
      ]
     },
     "execution_count": 36,
     "metadata": {},
     "output_type": "execute_result"
    }
   ],
   "source": [
    "# Create other two tuples and merge it\n",
    "\n",
    "tup1 = (11, 12, 33.45, 34.56)\n",
    "tup2 = ('abc', 'PQR', 'xyz')\n",
    "\n",
    "# So let's create a new tuple as follow\n",
    "\n",
    "tup3 = tup1 + tup2\n",
    "tup3"
   ]
  },
  {
   "cell_type": "code",
   "execution_count": 37,
   "metadata": {},
   "outputs": [
    {
     "name": "stdout",
     "output_type": "stream",
     "text": [
      "Max value element :  physics\n",
      "Max value element :  456\n"
     ]
    }
   ],
   "source": [
    "# The max() method returns the elements from the tuple with maximum value\n",
    "\n",
    "tuple1 = ('maths', 'chemistry', 'physics', 'biology')\n",
    "tuple2 = (456, 310, 400, 350)\n",
    "print (\"Max value element : \", max(tuple1))\n",
    "print (\"Max value element : \", max(tuple2))"
   ]
  },
  {
   "cell_type": "code",
   "execution_count": 38,
   "metadata": {},
   "outputs": [
    {
     "name": "stdout",
     "output_type": "stream",
     "text": [
      "Min value element :  biology\n",
      "Min value element :  310\n"
     ]
    }
   ],
   "source": [
    "# The min() method returns the elements from the tuple with minimum value.\n",
    "\n",
    "tuple1 = ('maths', 'chemistry', 'physics', 'biology')\n",
    "tuple2 = (456, 310, 400, 350)\n",
    "print (\"Min value element : \", min(tuple1))\n",
    "print (\"Min value element : \", min(tuple2))"
   ]
  },
  {
   "cell_type": "code",
   "execution_count": 39,
   "metadata": {},
   "outputs": [
    {
     "name": "stdout",
     "output_type": "stream",
     "text": [
      "First tuple length :  4\n",
      "Second tuple length :  4\n"
     ]
    }
   ],
   "source": [
    "# The len() method returns the number of elements in the tuple.\n",
    "\n",
    "tuple1 = ('maths', 'chemistry', 'physics', 'biology')\n",
    "tuple2 = (456, 310, 400, 350)\n",
    "print (\"First tuple length : \", len(tuple1))\n",
    "print (\"Second tuple length : \", len(tuple2))"
   ]
  },
  {
   "cell_type": "markdown",
   "metadata": {},
   "source": [
    "# 5. String & explore default methods\n",
    "\n",
    "Strings are amongst the most popular types in Python. We can create them simply by enclosing characters in quotes. Python treats single quotes the same as double quotes. Creating strings is as simple as assigning a value to a variable.\n",
    "\n",
    "For example ---- 'hello' is the same as \"hello\"."
   ]
  },
  {
   "cell_type": "code",
   "execution_count": 40,
   "metadata": {},
   "outputs": [],
   "source": [
    "# Create a String and Enter the object\n",
    "\n",
    "Str = \"Rajeev Kumar\""
   ]
  },
  {
   "cell_type": "code",
   "execution_count": 42,
   "metadata": {},
   "outputs": [
    {
     "data": {
      "text/plain": [
       "str"
      ]
     },
     "execution_count": 42,
     "metadata": {},
     "output_type": "execute_result"
    }
   ],
   "source": [
    "# Check the data types\n",
    "\n",
    "type(Str)"
   ]
  },
  {
   "cell_type": "code",
   "execution_count": 43,
   "metadata": {},
   "outputs": [
    {
     "data": {
      "text/plain": [
       "'e'"
      ]
     },
     "execution_count": 43,
     "metadata": {},
     "output_type": "execute_result"
    }
   ],
   "source": [
    "# Create a other String\n",
    "\n",
    "String1 = \"Hello World!\"\n",
    "\n",
    "# Get the character at position\n",
    "\n",
    "String1[1]"
   ]
  },
  {
   "cell_type": "code",
   "execution_count": 44,
   "metadata": {},
   "outputs": [
    {
     "data": {
      "text/plain": [
       "'llo'"
      ]
     },
     "execution_count": 44,
     "metadata": {},
     "output_type": "execute_result"
    }
   ],
   "source": [
    "# Slicing\n",
    "\n",
    "String1[2:5]"
   ]
  },
  {
   "cell_type": "code",
   "execution_count": 45,
   "metadata": {},
   "outputs": [
    {
     "data": {
      "text/plain": [
       "'orl'"
      ]
     },
     "execution_count": 45,
     "metadata": {},
     "output_type": "execute_result"
    }
   ],
   "source": [
    "# Negative Indexing\n",
    "\n",
    "String1[-5:-2]"
   ]
  },
  {
   "cell_type": "code",
   "execution_count": 46,
   "metadata": {},
   "outputs": [
    {
     "data": {
      "text/plain": [
       "12"
      ]
     },
     "execution_count": 46,
     "metadata": {},
     "output_type": "execute_result"
    }
   ],
   "source": [
    "# String Length\n",
    "\n",
    "len(String1)"
   ]
  },
  {
   "cell_type": "code",
   "execution_count": 47,
   "metadata": {},
   "outputs": [
    {
     "data": {
      "text/plain": [
       "'RAJEEV KUMAR'"
      ]
     },
     "execution_count": 47,
     "metadata": {},
     "output_type": "execute_result"
    }
   ],
   "source": [
    "# Upper Case\n",
    "\n",
    "Str.upper()"
   ]
  },
  {
   "cell_type": "code",
   "execution_count": 48,
   "metadata": {},
   "outputs": [
    {
     "data": {
      "text/plain": [
       "'rajeev kumar'"
      ]
     },
     "execution_count": 48,
     "metadata": {},
     "output_type": "execute_result"
    }
   ],
   "source": [
    "#Lower Case\n",
    "\n",
    "Str.lower()"
   ]
  },
  {
   "cell_type": "code",
   "execution_count": 49,
   "metadata": {},
   "outputs": [
    {
     "data": {
      "text/plain": [
       "'Kiran Singh'"
      ]
     },
     "execution_count": 49,
     "metadata": {},
     "output_type": "execute_result"
    }
   ],
   "source": [
    "# String Concatenation\n",
    "\n",
    "Str1 = \"Kiran\"\n",
    "Str2 = \"Singh\"\n",
    "\n",
    "Str3 = Str1 + \" \" + Str2\n",
    "\n",
    "Str3"
   ]
  },
  {
   "cell_type": "code",
   "execution_count": 50,
   "metadata": {},
   "outputs": [
    {
     "data": {
      "text/plain": [
       "('Rajeev', 'Sonu', 'Mahesh', 'Swati', 'Priya')"
      ]
     },
     "execution_count": 50,
     "metadata": {},
     "output_type": "execute_result"
    }
   ],
   "source": [
    "# Insertind more object in str4\n",
    "\n",
    "Str4 = \"Rajeev\", \"Sonu\", \"Mahesh\", \"Swati\", \"Priya\"\n",
    "Str4"
   ]
  },
  {
   "cell_type": "code",
   "execution_count": 51,
   "metadata": {},
   "outputs": [
    {
     "data": {
      "text/plain": [
       "('Mahesh', 'Swati')"
      ]
     },
     "execution_count": 51,
     "metadata": {},
     "output_type": "execute_result"
    }
   ],
   "source": [
    "# Both Positive or negative Indexing \n",
    "\n",
    "Str4[2:-1]"
   ]
  },
  {
   "cell_type": "code",
   "execution_count": 52,
   "metadata": {},
   "outputs": [
    {
     "data": {
      "text/plain": [
       "'I like Java programming lanaguage'"
      ]
     },
     "execution_count": 52,
     "metadata": {},
     "output_type": "execute_result"
    }
   ],
   "source": [
    "# replace method\n",
    "\n",
    "Str5 = \"I like C++ programming lanaguage\"\n",
    "Str6 = Str5.replace(\"C++\", \"Java\")\n",
    "Str6"
   ]
  },
  {
   "cell_type": "code",
   "execution_count": 53,
   "metadata": {},
   "outputs": [
    {
     "name": "stdout",
     "output_type": "stream",
     "text": [
      "Updated String :-  i like Python programming!\n"
     ]
    }
   ],
   "source": [
    "# Updating method\n",
    "\n",
    "var1 = 'i like Java Programming!'\n",
    "print(\"Updated String :- \", var1[:7] + 'Python programming!')"
   ]
  },
  {
   "cell_type": "code",
   "execution_count": 54,
   "metadata": {},
   "outputs": [
    {
     "data": {
      "text/plain": [
       "'My name is Rajeev and weight is 23 kg !'"
      ]
     },
     "execution_count": 54,
     "metadata": {},
     "output_type": "execute_result"
    }
   ],
   "source": [
    "# Single Quotes\n",
    "\n",
    "Var2 = \"My name is %s and weight is %d kg !\" % ('Rajeev', 23)\n",
    "Var2"
   ]
  },
  {
   "cell_type": "code",
   "execution_count": 55,
   "metadata": {},
   "outputs": [
    {
     "data": {
      "text/plain": [
       "' This is a long string that is made up of several lines and non-printable characters such as TAB ( \\t ) and they will show up that way when displayed. NEWLINEs within the string, whether explicitly given like\\nthis within the brackets [ \\n ], or just a NEWLINE within the variable assignment will also show up. '"
      ]
     },
     "execution_count": 55,
     "metadata": {},
     "output_type": "execute_result"
    }
   ],
   "source": [
    "# Triple Quotes\n",
    "\n",
    "Var3 = \"\"\" This is a long string that is made up of several lines and non-printable characters such as TAB ( \\t ) and they will show up that way when displayed. NEWLINEs within the string, whether explicitly given like\n",
    "this within the brackets [ \\n ], or just a NEWLINE within the variable assignment will also show up. \"\"\"\n",
    "\n",
    "# Printing\n",
    "Var3"
   ]
  },
  {
   "cell_type": "code",
   "execution_count": 56,
   "metadata": {},
   "outputs": [
    {
     "data": {
      "text/plain": [
       "True"
      ]
     },
     "execution_count": 56,
     "metadata": {},
     "output_type": "execute_result"
    }
   ],
   "source": [
    "#  islower() method\n",
    "\n",
    "Var4 = \"this is string example....wow!!!\";\n",
    "Var4.islower()\n",
    "\n",
    "# isupper() method\n",
    "\n",
    "Var4 = \"THIS IS STRING EXAMPLE....WOW!!!\"; \n",
    "Var4.isupper()"
   ]
  },
  {
   "cell_type": "code",
   "execution_count": 57,
   "metadata": {},
   "outputs": [
    {
     "name": "stdout",
     "output_type": "stream",
     "text": [
      "\n",
      "--- Default Order ---\n",
      "Rajeev, Priya and Saikiran\n",
      "\n",
      "--- Positional Order ---\n",
      "Priya, Rajeev and Saikiran\n",
      "\n",
      "--- Keyword Order ---\n",
      "Priya, Saikiran and Rajeev\n"
     ]
    }
   ],
   "source": [
    "# Python string format() method\n",
    "\n",
    "# default(implicit) order\n",
    "default_order = \"{}, {} and {}\".format('Rajeev','Priya','Saikiran')\n",
    "print('\\n--- Default Order ---')\n",
    "print(default_order)\n",
    "\n",
    "# order using positional argument\n",
    "positional_order = \"{1}, {0} and {2}\".format('Rajeev','Priya','Saikiran')\n",
    "print('\\n--- Positional Order ---')\n",
    "print(positional_order)\n",
    "\n",
    "# order using keyword argument\n",
    "keyword_order = \"{p}, {s} and {r}\".format(r = 'Rajeev', p = 'Priya', s = 'Saikiran')\n",
    "print('\\n--- Keyword Order ---')\n",
    "print(keyword_order)"
   ]
  },
  {
   "cell_type": "code",
   "execution_count": 60,
   "metadata": {},
   "outputs": [
    {
     "name": "stdout",
     "output_type": "stream",
     "text": [
      "list(enumerate(Seasion) =  [(0, 'c'), (1, 'o'), (2, 'l'), (3, 'd')]\n",
      "len(Seasion) =  4\n"
     ]
    }
   ],
   "source": [
    "# The enumerate() function returns an enumerate object.\n",
    "\n",
    "Seasion = 'cold'\n",
    "\n",
    "# enumerate()\n",
    "list_enumerate = list(enumerate(Seasion))\n",
    "print('list(enumerate(Seasion) = ', list_enumerate)\n",
    "\n",
    "#character count\n",
    "print('len(Seasion) = ', len(Seasion))"
   ]
  },
  {
   "cell_type": "markdown",
   "metadata": {},
   "source": [
    "-------------------------------------------------------------------------------------------------------------------------------"
   ]
  },
  {
   "cell_type": "markdown",
   "metadata": {},
   "source": [
    "-------------------------------------------------------------------------------------------------------------------------------"
   ]
  }
 ],
 "metadata": {
  "kernelspec": {
   "display_name": "Python 3",
   "language": "python",
   "name": "python3"
  },
  "language_info": {
   "codemirror_mode": {
    "name": "ipython",
    "version": 3
   },
   "file_extension": ".py",
   "mimetype": "text/x-python",
   "name": "python",
   "nbconvert_exporter": "python",
   "pygments_lexer": "ipython3",
   "version": "3.8.3"
  }
 },
 "nbformat": 4,
 "nbformat_minor": 4
}
